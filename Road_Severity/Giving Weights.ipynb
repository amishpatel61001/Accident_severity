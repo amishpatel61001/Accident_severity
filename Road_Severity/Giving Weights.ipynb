{
 "cells": [
  {
   "cell_type": "code",
   "execution_count": 1,
   "id": "957eb7a5",
   "metadata": {},
   "outputs": [
    {
     "name": "stderr",
     "output_type": "stream",
     "text": [
      "/Users/Jasmin/anaconda3/lib/python3.11/site-packages/pandas/core/arrays/masked.py:60: UserWarning: Pandas requires version '1.3.6' or newer of 'bottleneck' (version '1.3.5' currently installed).\n",
      "  from pandas.core import (\n"
     ]
    }
   ],
   "source": [
    "import pandas as pd"
   ]
  },
  {
   "cell_type": "code",
   "execution_count": 4,
   "id": "dd68790d",
   "metadata": {},
   "outputs": [],
   "source": [
    "# Reading the CSV files\n",
    "df = pd.read_csv('final_data.csv', low_memory= False)  # Load the Crash data from CSV\n"
   ]
  },
  {
   "cell_type": "code",
   "execution_count": 7,
   "id": "d1f84963",
   "metadata": {},
   "outputs": [
    {
     "name": "stdout",
     "output_type": "stream",
     "text": [
      "                    REPORT_ID      Stats Area          Suburb  Postcode  \\\n",
      "0           2018-1-12/07/2023  2 Metropolitan   MITCHELL PARK      5043   \n",
      "1           2018-1-12/07/2023  2 Metropolitan   MITCHELL PARK      5043   \n",
      "2           2018-1-12/07/2023  2 Metropolitan   MITCHELL PARK      5043   \n",
      "3           2018-1-12/07/2023  2 Metropolitan   MITCHELL PARK      5043   \n",
      "4          2018-10-12/07/2023       3 Country  MOUNT PLEASANT      5235   \n",
      "...                       ...             ...             ...       ...   \n",
      "147939  2022-63599-12/07/2023  2 Metropolitan    DAVOREN PARK      5113   \n",
      "147940  2022-63600-12/07/2023  2 Metropolitan          BELAIR      5052   \n",
      "147941  2022-63600-12/07/2023  2 Metropolitan          BELAIR      5052   \n",
      "147942  2022-63601-12/07/2023  2 Metropolitan      BIRKENHEAD      5015   \n",
      "147943  2022-63601-12/07/2023  2 Metropolitan      BIRKENHEAD      5015   \n",
      "\n",
      "        Total Units  Year     Month        Day          Time  Area Speed  ...  \\\n",
      "0                 4  2018   October  Wednesday  1/5/24 11:20          60  ...   \n",
      "1                 4  2018   October  Wednesday  1/5/24 11:20          60  ...   \n",
      "2                 4  2018   October  Wednesday  1/5/24 11:20          60  ...   \n",
      "3                 4  2018   October  Wednesday  1/5/24 11:20          60  ...   \n",
      "4                 3  2018   January     Monday  1/5/24 10:45          80  ...   \n",
      "...             ...   ...       ...        ...           ...         ...  ...   \n",
      "147939            2  2022  November  Wednesday   1/5/24 9:00          50  ...   \n",
      "147940            2  2022  November     Friday  1/5/24 11:00          40  ...   \n",
      "147941            2  2022  November     Friday  1/5/24 11:00          40  ...   \n",
      "147942            2  2022  November    Tuesday  1/5/24 17:20          60  ...   \n",
      "147943            2  2022  November    Tuesday  1/5/24 17:20          60  ...   \n",
      "\n",
      "                             Unit Type Veh Year     Licence Type Rollover  \\\n",
      "0                   Motor Cars - Sedan      2006  Provisional 1         N   \n",
      "1                   Motor Cars - Sedan      2006            Full        N   \n",
      "2       Pedestrian on Footpath/Carpark      2017            Full        N   \n",
      "3              Other Fixed Obstruction      2017            Full        N   \n",
      "4                              Utility      2011            Full        N   \n",
      "...                                ...       ...             ...      ...   \n",
      "147939              Motor Cars - Sedan      2008            Full        N   \n",
      "147940              Motor Cars - Sedan      1999            Full        N   \n",
      "147941                     Motor Cycle      2016            Full        N   \n",
      "147942              Motor Cars - Sedan      2013            Full        N   \n",
      "147943              Motor Cars - Sedan      1998    Probationary        N   \n",
      "\n",
      "       Fire Casualty Type     Sex AGE      Seat Belt  severity_numeric  \n",
      "0         N        Driver    Male  40  Fitted - Worn                 1  \n",
      "1         N        Driver    Male  40  Fitted - Worn                 1  \n",
      "2         N        Driver    Male  40  Fitted - Worn                 1  \n",
      "3         N        Driver    Male  40  Fitted - Worn                 1  \n",
      "4         N        Driver    Male  40  Fitted - Worn                 1  \n",
      "...     ...           ...     ...  ..            ...               ...  \n",
      "147939    N        Driver  Female  40  Fitted - Worn                 2  \n",
      "147940    N        Driver    Male  40  Fitted - Worn                 1  \n",
      "147941    N        Driver    Male  40  Fitted - Worn                 1  \n",
      "147942    N        Driver  Female  26  Fitted - Worn                 2  \n",
      "147943    N        Driver  Female  26  Fitted - Worn                 2  \n",
      "\n",
      "[147944 rows x 28 columns]\n"
     ]
    }
   ],
   "source": [
    "print(df)"
   ]
  },
  {
   "cell_type": "code",
   "execution_count": 8,
   "id": "f7db61cd",
   "metadata": {},
   "outputs": [
    {
     "name": "stdout",
     "output_type": "stream",
     "text": [
      "                    REPORT_ID      Stats Area          Suburb  Postcode  \\\n",
      "0           2018-1-12/07/2023  2 Metropolitan   MITCHELL PARK      5043   \n",
      "1           2018-1-12/07/2023  2 Metropolitan   MITCHELL PARK      5043   \n",
      "2           2018-1-12/07/2023  2 Metropolitan   MITCHELL PARK      5043   \n",
      "3           2018-1-12/07/2023  2 Metropolitan   MITCHELL PARK      5043   \n",
      "4          2018-10-12/07/2023       3 Country  MOUNT PLEASANT      5235   \n",
      "...                       ...             ...             ...       ...   \n",
      "147939  2022-63599-12/07/2023  2 Metropolitan    DAVOREN PARK      5113   \n",
      "147940  2022-63600-12/07/2023  2 Metropolitan          BELAIR      5052   \n",
      "147941  2022-63600-12/07/2023  2 Metropolitan          BELAIR      5052   \n",
      "147942  2022-63601-12/07/2023  2 Metropolitan      BIRKENHEAD      5015   \n",
      "147943  2022-63601-12/07/2023  2 Metropolitan      BIRKENHEAD      5015   \n",
      "\n",
      "        Total Units  Year     Month        Day          Time  Area Speed  ...  \\\n",
      "0                 4  2018   October  Wednesday  1/5/24 11:20          60  ...   \n",
      "1                 4  2018   October  Wednesday  1/5/24 11:20          60  ...   \n",
      "2                 4  2018   October  Wednesday  1/5/24 11:20          60  ...   \n",
      "3                 4  2018   October  Wednesday  1/5/24 11:20          60  ...   \n",
      "4                 3  2018   January     Monday  1/5/24 10:45          80  ...   \n",
      "...             ...   ...       ...        ...           ...         ...  ...   \n",
      "147939            2  2022  November  Wednesday   1/5/24 9:00          50  ...   \n",
      "147940            2  2022  November     Friday  1/5/24 11:00          40  ...   \n",
      "147941            2  2022  November     Friday  1/5/24 11:00          40  ...   \n",
      "147942            2  2022  November    Tuesday  1/5/24 17:20          60  ...   \n",
      "147943            2  2022  November    Tuesday  1/5/24 17:20          60  ...   \n",
      "\n",
      "       Veh Year     Licence Type Rollover Fire Casualty Type     Sex AGE  \\\n",
      "0           2006  Provisional 1         N    N        Driver    Male  40   \n",
      "1           2006            Full        N    N        Driver    Male  40   \n",
      "2           2017            Full        N    N        Driver    Male  40   \n",
      "3           2017            Full        N    N        Driver    Male  40   \n",
      "4           2011            Full        N    N        Driver    Male  40   \n",
      "...          ...             ...      ...  ...           ...     ...  ..   \n",
      "147939      2008            Full        N    N        Driver  Female  40   \n",
      "147940      1999            Full        N    N        Driver    Male  40   \n",
      "147941      2016            Full        N    N        Driver    Male  40   \n",
      "147942      2013            Full        N    N        Driver  Female  26   \n",
      "147943      1998    Probationary        N    N        Driver  Female  26   \n",
      "\n",
      "            Seat Belt severity_numeric  weight_fatal  \n",
      "0       Fitted - Worn                1             0  \n",
      "1       Fitted - Worn                1             0  \n",
      "2       Fitted - Worn                1             0  \n",
      "3       Fitted - Worn                1             0  \n",
      "4       Fitted - Worn                1             0  \n",
      "...               ...              ...           ...  \n",
      "147939  Fitted - Worn                2             0  \n",
      "147940  Fitted - Worn                1             0  \n",
      "147941  Fitted - Worn                1             0  \n",
      "147942  Fitted - Worn                2             0  \n",
      "147943  Fitted - Worn                2             0  \n",
      "\n",
      "[147944 rows x 29 columns]\n"
     ]
    }
   ],
   "source": [
    "# Create 'weight_fatal' using apply() with a lambda function\n",
    "df['weight_fatal'] = df['severity_numeric'].apply(lambda x: 1 if x == 4 else 0)\n",
    "\n",
    "# Display the DataFrame to confirm the new column\n",
    "print(df)"
   ]
  },
  {
   "cell_type": "code",
   "execution_count": 9,
   "id": "e807357e",
   "metadata": {
    "scrolled": true
   },
   "outputs": [
    {
     "name": "stdout",
     "output_type": "stream",
     "text": [
      "                    REPORT_ID      Stats Area          Suburb  Postcode  \\\n",
      "0           2018-1-12/07/2023  2 Metropolitan   MITCHELL PARK      5043   \n",
      "1           2018-1-12/07/2023  2 Metropolitan   MITCHELL PARK      5043   \n",
      "2           2018-1-12/07/2023  2 Metropolitan   MITCHELL PARK      5043   \n",
      "3           2018-1-12/07/2023  2 Metropolitan   MITCHELL PARK      5043   \n",
      "4          2018-10-12/07/2023       3 Country  MOUNT PLEASANT      5235   \n",
      "...                       ...             ...             ...       ...   \n",
      "147939  2022-63599-12/07/2023  2 Metropolitan    DAVOREN PARK      5113   \n",
      "147940  2022-63600-12/07/2023  2 Metropolitan          BELAIR      5052   \n",
      "147941  2022-63600-12/07/2023  2 Metropolitan          BELAIR      5052   \n",
      "147942  2022-63601-12/07/2023  2 Metropolitan      BIRKENHEAD      5015   \n",
      "147943  2022-63601-12/07/2023  2 Metropolitan      BIRKENHEAD      5015   \n",
      "\n",
      "        Total Units  Year     Month        Day          Time  Area Speed  ...  \\\n",
      "0                 4  2018   October  Wednesday  1/5/24 11:20          60  ...   \n",
      "1                 4  2018   October  Wednesday  1/5/24 11:20          60  ...   \n",
      "2                 4  2018   October  Wednesday  1/5/24 11:20          60  ...   \n",
      "3                 4  2018   October  Wednesday  1/5/24 11:20          60  ...   \n",
      "4                 3  2018   January     Monday  1/5/24 10:45          80  ...   \n",
      "...             ...   ...       ...        ...           ...         ...  ...   \n",
      "147939            2  2022  November  Wednesday   1/5/24 9:00          50  ...   \n",
      "147940            2  2022  November     Friday  1/5/24 11:00          40  ...   \n",
      "147941            2  2022  November     Friday  1/5/24 11:00          40  ...   \n",
      "147942            2  2022  November    Tuesday  1/5/24 17:20          60  ...   \n",
      "147943            2  2022  November    Tuesday  1/5/24 17:20          60  ...   \n",
      "\n",
      "          Licence Type Rollover Fire Casualty Type     Sex AGE      Seat Belt  \\\n",
      "0       Provisional 1         N    N        Driver    Male  40  Fitted - Worn   \n",
      "1                 Full        N    N        Driver    Male  40  Fitted - Worn   \n",
      "2                 Full        N    N        Driver    Male  40  Fitted - Worn   \n",
      "3                 Full        N    N        Driver    Male  40  Fitted - Worn   \n",
      "4                 Full        N    N        Driver    Male  40  Fitted - Worn   \n",
      "...                ...      ...  ...           ...     ...  ..            ...   \n",
      "147939            Full        N    N        Driver  Female  40  Fitted - Worn   \n",
      "147940            Full        N    N        Driver    Male  40  Fitted - Worn   \n",
      "147941            Full        N    N        Driver    Male  40  Fitted - Worn   \n",
      "147942            Full        N    N        Driver  Female  26  Fitted - Worn   \n",
      "147943    Probationary        N    N        Driver  Female  26  Fitted - Worn   \n",
      "\n",
      "       severity_numeric weight_fatal  weight_major  \n",
      "0                     1            0             0  \n",
      "1                     1            0             0  \n",
      "2                     1            0             0  \n",
      "3                     1            0             0  \n",
      "4                     1            0             0  \n",
      "...                 ...          ...           ...  \n",
      "147939                2            0             0  \n",
      "147940                1            0             0  \n",
      "147941                1            0             0  \n",
      "147942                2            0             0  \n",
      "147943                2            0             0  \n",
      "\n",
      "[147944 rows x 30 columns]\n"
     ]
    }
   ],
   "source": [
    "# Create 'weight_fatal' using apply() with a lambda function\n",
    "df['weight_major'] = df['severity_numeric'].apply(lambda x: 1 if x == 3 else 0)\n",
    "\n",
    "# Display the DataFrame to confirm the new column\n",
    "print(df)"
   ]
  },
  {
   "cell_type": "code",
   "execution_count": 11,
   "id": "30cc5dae",
   "metadata": {},
   "outputs": [],
   "source": [
    "# Exporting merged data to a CSV file\n",
    "df.to_csv(\"final1_data.csv\", index=False)"
   ]
  },
  {
   "cell_type": "code",
   "execution_count": null,
   "id": "2c322117",
   "metadata": {},
   "outputs": [],
   "source": []
  },
  {
   "cell_type": "code",
   "execution_count": null,
   "id": "97a1f794",
   "metadata": {},
   "outputs": [],
   "source": []
  }
 ],
 "metadata": {
  "kernelspec": {
   "display_name": "Python 3 (ipykernel)",
   "language": "python",
   "name": "python3"
  },
  "language_info": {
   "codemirror_mode": {
    "name": "ipython",
    "version": 3
   },
   "file_extension": ".py",
   "mimetype": "text/x-python",
   "name": "python",
   "nbconvert_exporter": "python",
   "pygments_lexer": "ipython3",
   "version": "3.11.3"
  }
 },
 "nbformat": 4,
 "nbformat_minor": 5
}
