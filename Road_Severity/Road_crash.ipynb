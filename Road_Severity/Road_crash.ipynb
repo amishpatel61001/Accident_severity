{
 "cells": [
  {
   "cell_type": "code",
   "execution_count": 28,
   "id": "ca4de329",
   "metadata": {
    "slideshow": {
     "slide_type": "slide"
    }
   },
   "outputs": [],
   "source": [
    "import pandas as pd"
   ]
  },
  {
   "cell_type": "code",
   "execution_count": 29,
   "id": "d9311318",
   "metadata": {
    "slideshow": {
     "slide_type": "slide"
    }
   },
   "outputs": [],
   "source": [
    "# Reading the CSV files\n",
    "df1 = pd.read_csv('Crash.csv')  # Load the Crash data from CSV\n",
    "df2 = pd.read_csv('Units.csv', low_memory=False)  # Load the Units data from CSV\n",
    "df3 = pd.read_csv('Casualty.csv')  # Load the Casualty data from CSV"
   ]
  },
  {
   "cell_type": "code",
   "execution_count": 30,
   "id": "8ed504de",
   "metadata": {
    "slideshow": {
     "slide_type": "slide"
    }
   },
   "outputs": [],
   "source": [
    "# Merging datasets on common columns name of REPORT_ID\n",
    "merged_data = pd.merge(df1, df2, on=\"REPORT_ID\")\n",
    "merged_data = pd.merge(merged_data, df3, on=\"REPORT_ID\", how=\"outer\")"
   ]
  },
  {
   "cell_type": "code",
   "execution_count": 31,
   "id": "5766001c",
   "metadata": {
    "slideshow": {
     "slide_type": "slide"
    }
   },
   "outputs": [
    {
     "name": "stdout",
     "output_type": "stream",
     "text": [
      "Index(['REPORT_ID', 'Stats Area', 'Suburb', 'Postcode', 'Total Units', 'Year',\n",
      "       'Month', 'Day', 'Time', 'Area Speed', 'Position Type', 'Road Surface',\n",
      "       'Moisture Cond', 'Weather Cond', 'DayNight', 'Crash Type',\n",
      "       'CSEF Severity', 'Traffic Ctrls', 'Unit Type', 'Veh Year',\n",
      "       'Licence Type', 'Rollover', 'Fire', 'Casualty Type', 'Sex', 'AGE',\n",
      "       'Seat Belt', 'Helmet'],\n",
      "      dtype='object')\n"
     ]
    }
   ],
   "source": [
    "print(merged_data.columns)"
   ]
  },
  {
   "cell_type": "code",
   "execution_count": 32,
   "id": "b4fddae6",
   "metadata": {
    "slideshow": {
     "slide_type": "slide"
    }
   },
   "outputs": [
    {
     "name": "stdout",
     "output_type": "stream",
     "text": [
      "0         N\n",
      "1         N\n",
      "2         N\n",
      "3         N\n",
      "4         N\n",
      "         ..\n",
      "147941    N\n",
      "147942    N\n",
      "147943    N\n",
      "147944    N\n",
      "147945    N\n",
      "Name: Fire, Length: 147946, dtype: object 0         N\n",
      "1         N\n",
      "2         N\n",
      "3         N\n",
      "4         N\n",
      "         ..\n",
      "147941    N\n",
      "147942    N\n",
      "147943    N\n",
      "147944    N\n",
      "147945    N\n",
      "Name: Rollover, Length: 147946, dtype: object\n"
     ]
    }
   ],
   "source": [
    "# Replacing blank values (None or empty strings) with 'N' in the Rollover and Fire columns\n",
    "columns_to_replace = [\"Rollover\", \"Fire\"]\n",
    "\n",
    "# Replacing NaN with 'N'\n",
    "merged_data[columns_to_replace] = merged_data[columns_to_replace].fillna(\"N\")\n",
    "\n",
    "# Replacing empty strings with 'N'\n",
    "merged_data[columns_to_replace] = merged_data[columns_to_replace].replace(\"\", \"N\")\n",
    "\n",
    "print(merged_data['Fire'], merged_data['Rollover'])"
   ]
  },
  {
   "cell_type": "code",
   "execution_count": 33,
   "id": "43befa1a",
   "metadata": {
    "slideshow": {
     "slide_type": "slide"
    }
   },
   "outputs": [
    {
     "name": "stdout",
     "output_type": "stream",
     "text": [
      "0                   NaN\n",
      "1                   NaN\n",
      "2                   NaN\n",
      "3                   NaN\n",
      "4                   NaN\n",
      "              ...      \n",
      "147941    Fitted - Worn\n",
      "147942              NaN\n",
      "147943              NaN\n",
      "147944    Fitted - Worn\n",
      "147945    Fitted - Worn\n",
      "Name: Seat Belt, Length: 147946, dtype: object\n"
     ]
    }
   ],
   "source": [
    "# Replacing empty strings with NaN for consistency\n",
    "merged_data['Seat Belt'] = merged_data['Seat Belt'].replace(\"\", None)\n",
    "\n",
    "# Filling NaN in 'Seat belt' with corresponding values from 'Helmet'\n",
    "merged_data['Seat Belt'] = merged_data['Seat Belt'].fillna(merged_data['Helmet'])\n",
    "\n",
    "replace_dict = {\n",
    "    \"Worn\": \"Fitted - Worn\",\n",
    "    \"Not Worn\": \"Fitted - Not Worn\"\n",
    "}\n",
    "\n",
    "merged_data['Seat Belt'] = merged_data['Seat Belt'].apply(\n",
    "    lambda x: replace_dict[x] if x in replace_dict else x\n",
    ")\n",
    "\n",
    "# Drop the 'Helmet' column as it's no longer needed\n",
    "merged_data = merged_data.drop('Helmet', axis=1)\n",
    "\n",
    "print(merged_data['Seat Belt'])"
   ]
  },
  {
   "cell_type": "code",
   "execution_count": 34,
   "id": "5955cc6c",
   "metadata": {
    "slideshow": {
     "slide_type": "slide"
    }
   },
   "outputs": [],
   "source": [
    "# Defining the mapping from text to numeric values\n",
    "severity_mapping = {\n",
    "    '1: PDO': 1,   # Property Damage Only\n",
    "    '2: MI': 2,    # Minor Injury\n",
    "    '3: SI': 3,    # Serious Injury\n",
    "    '4: Fatal': 4  # Fatality\n",
    "}\n",
    "\n",
    "# Create a new column with numeric values based on the severity_mapping\n",
    "merged_data['severity_numeric'] = merged_data['CSEF Severity'].map(severity_mapping)\n",
    "\n",
    "#made this column to check corealtions with other numeric values in the table"
   ]
  },
  {
   "cell_type": "code",
   "execution_count": 35,
   "id": "959d1865",
   "metadata": {
    "slideshow": {
     "slide_type": "slide"
    }
   },
   "outputs": [
    {
     "name": "stdout",
     "output_type": "stream",
     "text": [
      "0         1.0\n",
      "1         1.0\n",
      "2         1.0\n",
      "3         1.0\n",
      "4         1.0\n",
      "         ... \n",
      "147941    2.0\n",
      "147942    1.0\n",
      "147943    1.0\n",
      "147944    2.0\n",
      "147945    2.0\n",
      "Name: severity_numeric, Length: 147946, dtype: float64\n"
     ]
    }
   ],
   "source": [
    "print(merged_data['severity_numeric'])"
   ]
  },
  {
   "cell_type": "code",
   "execution_count": 36,
   "id": "5ec069b6",
   "metadata": {
    "slideshow": {
     "slide_type": "slide"
    }
   },
   "outputs": [],
   "source": [
    "merged_data['AGE'] = pd.to_numeric(merged_data['AGE'], errors='coerce')\n",
    "\n",
    "# Calculating the average of numeric values in 'Age', ignoring NaNs\n",
    "age_avg = round(merged_data['AGE'].mean())  # Returns the mean, ignoring NaN values\n",
    "\n",
    "# Replacing 'XX' and 'XXX' with the calculated average\n",
    "merged_data['AGE'] = merged_data['AGE'].replace({'XX': age_avg, 'XXX': age_avg})\n",
    "\n",
    "# Filling any remaining NaNs with the average\n",
    "merged_data['AGE'] = merged_data['AGE'].fillna(age_avg)"
   ]
  },
  {
   "cell_type": "code",
   "execution_count": 37,
   "id": "6b5d3481",
   "metadata": {
    "slideshow": {
     "slide_type": "slide"
    }
   },
   "outputs": [],
   "source": [
    "# Converting 'Vehicle Year' to numeric, coercing errors to NaN\n",
    "merged_data['Veh Year'] = pd.to_numeric(merged_data['Veh Year'], errors='coerce')\n",
    "\n",
    "#The most frequent year (mode), ignoring NaN\n",
    "most_frequent_year = merged_data['Veh Year'].mode().iloc[0]  # Mode returns a Series, get the first element\n",
    "\n",
    "\n",
    "# Replace 'XXXX' with the most frequent year\n",
    "merged_data['Veh Year'] = merged_data['Veh Year'].replace('XXXX', most_frequent_year)\n",
    "\n",
    "# Fill remaining NaNs with the desired default (most frequent or average)\n",
    "merged_data['Veh Year'] = merged_data['Veh Year'].fillna(most_frequent_year)"
   ]
  },
  {
   "cell_type": "code",
   "execution_count": 38,
   "id": "a27f2a3c",
   "metadata": {
    "slideshow": {
     "slide_type": "slide"
    }
   },
   "outputs": [],
   "source": [
    "# Exporting merged data to a CSV file\n",
    "merged_data.to_csv(\"merged_data.csv\", index=False)"
   ]
  }
 ],
 "metadata": {
  "celltoolbar": "Slideshow",
  "kernelspec": {
   "display_name": "Python 3 (ipykernel)",
   "language": "python",
   "name": "python3"
  },
  "language_info": {
   "codemirror_mode": {
    "name": "ipython",
    "version": 3
   },
   "file_extension": ".py",
   "mimetype": "text/x-python",
   "name": "python",
   "nbconvert_exporter": "python",
   "pygments_lexer": "ipython3",
   "version": "3.11.3"
  }
 },
 "nbformat": 4,
 "nbformat_minor": 5
}
